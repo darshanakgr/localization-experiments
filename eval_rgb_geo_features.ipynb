{
 "cells": [
  {
   "cell_type": "code",
   "execution_count": 1,
   "metadata": {},
   "outputs": [],
   "source": [
    "import os\n",
    "import open3d\n",
    "import numpy as np\n",
    "import pandas as pd\n",
    "\n",
    "from utils.pcd import *"
   ]
  },
  {
   "cell_type": "code",
   "execution_count": 2,
   "metadata": {},
   "outputs": [],
   "source": [
    "def inv_transform(T):\n",
    "    T_inv = np.identity(4)\n",
    "    T_inv[:3, :3] = T[:3, :3].T\n",
    "    T_inv[:3, 3] = -np.dot(T[:3, :3].T, T[:3, 3])\n",
    "    return T_inv\n",
    "\n",
    "def angles(t):\n",
    "    rx = math.degrees(math.atan2(t[2][1], t[2][2]))\n",
    "    ry = math.degrees(math.atan2(-t[2][0], math.sqrt(t[2][1] ** 2 + t[2][2] ** 2)))\n",
    "    rz = math.degrees(math.atan2(t[1][0], t[0][0]))\n",
    "    return np.array([rx, ry, rz])\n",
    "\n",
    "def translation(t):\n",
    "    return np.array([t[0][3], t[1][3], t[2][3]])"
   ]
  },
  {
   "cell_type": "code",
   "execution_count": 15,
   "metadata": {},
   "outputs": [],
   "source": [
    "dataset_dir = \"D:/Projects/Research/3DMatch/dataset/7-scenes-redkitchen/seq-01/\"\n",
    "fcgf_features_dir = \"D:/Projects/Research/3DMatch/features/7-scenes-redkitchen/fcgf\"\n",
    "features_dir = \"D:/Projects/Research/3DMatch/features/7-scenes-redkitchen/conv_16_128/\""
   ]
  },
  {
   "cell_type": "code",
   "execution_count": 16,
   "metadata": {},
   "outputs": [],
   "source": [
    "data = []\n",
    "\n",
    "for i in range(99):\n",
    "    src_keypts, src_features, src_scores = read_features_file(f\"{fcgf_features_dir}/frame-{i:06d}.npz\")\n",
    "    tgt_keypts, tgt_features, tgt_scores = read_features_file(f\"{features_dir}/frame-{(i + 1):06d}.npz\", threshold=0.85)\n",
    "    \n",
    "    result_ransac = execute_global_registration(src_keypts, tgt_keypts, src_features, tgt_features, 0.05)\n",
    "    \n",
    "    pose1 = np.loadtxt(os.path.join(dataset_dir, f\"frame-{1:06d}.pose.txt\"))\n",
    "    pose2 = np.loadtxt(os.path.join(dataset_dir, f\"frame-{1 + 1:06d}.pose.txt\"))\n",
    "\n",
    "    gt_tranformation = np.dot(pose1, inv_transform(pose2))\n",
    "\n",
    "    angle_error = np.mean(np.abs(angles(gt_tranformation) - angles(result_ransac.transformation)))\n",
    "    translate_error = np.mean(np.abs(translation(gt_tranformation) - translation(result_ransac.transformation)))\n",
    "    \n",
    "    # print(f\"{i:02d} & {i+1:02d} - Error: {angle_error}, {translate_error}\")\n",
    "    # if angle_error > 10:\n",
    "    #     src_keypts.paint_uniform_color([1, 0.706, 0])\n",
    "    #     tgt_keypts.paint_uniform_color([0, 0.651, 0.929])\n",
    "\n",
    "    #     src_keypts.transform(result_ransac.transformation)\n",
    "\n",
    "    #     open3d.visualization.draw_geometries([src_keypts, tgt_keypts])\n",
    "    \n",
    "    data.append([i, i+1, len(src_keypts.points), len(tgt_keypts.points), len(result_ransac.correspondence_set), angle_error, translate_error])\n",
    "    \n",
    "df = pd.DataFrame(data, columns=[\"source\", \"target\", \"src_pts\", \"tgt_pts\", \"num_matches\", \"angle_error\", \"translation_error\"])"
   ]
  },
  {
   "cell_type": "code",
   "execution_count": 17,
   "metadata": {},
   "outputs": [],
   "source": [
    "threshold = 5\n",
    "df.loc[:, \"correct\"] = df.loc[:, \"angle_error\"].apply(lambda x: 0 if x > threshold else 1)\n",
    "\n",
    "accuracy = df.correct.sum() / df.shape[0] * 100\n",
    "angle_error_mean = df[df.correct == 1][\"angle_error\"].mean()\n",
    "translate_error_mean = df[df.correct == 1][\"translation_error\"].mean()\n",
    "\n",
    "print(f\"Accuracy            : {accuracy}\")\n",
    "print(f\"Angle error         : {angle_error_mean}\")\n",
    "print(f\"Translation error   : {translate_error_mean}\")"
   ]
  },
  {
   "cell_type": "code",
   "execution_count": 38,
   "metadata": {},
   "outputs": [],
   "source": [
    "i = 1\n",
    "\n",
    "src_keypts, src_features, src_scores = read_features_file(f\"{fcgf_features_dir}/frame-{i:06d}.npz\")\n",
    "tgt_keypts, tgt_features, tgt_scores = read_features_file(f\"{features_dir}/frame-{(i + 1):06d}.npz\")\n",
    "\n",
    "result_ransac = execute_global_registration(src_keypts, tgt_keypts, src_features, tgt_features, 0.05)\n",
    "to_print = f\"Keypts: [{len(src_keypts.points)}, {len(tgt_keypts.points)}]\\t\"\n",
    "to_print += f\"No of matches: {len(result_ransac.correspondence_set)}\"\n",
    "\n",
    "print(to_print)\n",
    "\n",
    "src_keypts.paint_uniform_color([1, 0.706, 0])\n",
    "tgt_keypts.paint_uniform_color([0, 0.651, 0.929])\n",
    "\n",
    "src_keypts.transform(result_ransac.transformation)\n",
    "\n",
    "open3d.visualization.draw_geometries([src_keypts, tgt_keypts])"
   ]
  },
  {
   "cell_type": "code",
   "execution_count": 3,
   "metadata": {},
   "outputs": [],
   "source": [
    "dataset_dir = \"D:/Projects/Research/3DMatch/dataset/7-scenes-redkitchen/seq-01/\"\n",
    "features_dir = \"D:/Projects/Research/3DMatch/estimated_depth/7-scenes-redkitchen/seq-01\""
   ]
  },
  {
   "cell_type": "code",
   "execution_count": 9,
   "metadata": {},
   "outputs": [],
   "source": [
    "data = []\n",
    "\n",
    "for i in range(10):\n",
    "    src_keypts, src_features, src_scores = read_features_file(f\"{features_dir}/frame-{i:06d}.estimated.npz\")\n",
    "    tgt_keypts, tgt_features, tgt_scores = read_features_file(f\"{features_dir}/frame-{(i + 5):06d}.original.npz\")\n",
    "    \n",
    "    result_ransac = execute_global_registration(src_keypts, tgt_keypts, src_features, tgt_features, 0.05)\n",
    "    \n",
    "    pose1 = np.loadtxt(os.path.join(dataset_dir, f\"frame-{1:06d}.pose.txt\"))\n",
    "    pose2 = np.loadtxt(os.path.join(dataset_dir, f\"frame-{1 + 5:06d}.pose.txt\"))\n",
    "\n",
    "    gt_tranformation = np.dot(pose1, inv_transform(pose2))\n",
    "\n",
    "    angle_error = np.mean(np.abs(angles(gt_tranformation) - angles(result_ransac.transformation)))\n",
    "    translate_error = np.mean(np.abs(translation(gt_tranformation) - translation(result_ransac.transformation)))\n",
    "    \n",
    "    data.append([i, i+1, len(src_keypts.points), len(tgt_keypts.points), len(result_ransac.correspondence_set), angle_error, translate_error])\n",
    "    \n",
    "df = pd.DataFrame(data, columns=[\"source\", \"target\", \"src_pts\", \"tgt_pts\", \"num_matches\", \"angle_error\", \"translation_error\"])"
   ]
  },
  {
   "cell_type": "code",
   "execution_count": 10,
   "metadata": {},
   "outputs": [
    {
     "name": "stdout",
     "output_type": "stream",
     "text": [
      "Accuracy            : 100.0\n",
      "Angle error         : 2.762354749646699\n",
      "Translation error   : 0.09595174847227764\n"
     ]
    }
   ],
   "source": [
    "threshold = 5\n",
    "df.loc[:, \"correct\"] = df.loc[:, \"angle_error\"].apply(lambda x: 0 if x > threshold else 1)\n",
    "\n",
    "accuracy = df.correct.sum() / df.shape[0] * 100\n",
    "angle_error_mean = df[df.correct == 1][\"angle_error\"].mean()\n",
    "translate_error_mean = df[df.correct == 1][\"translation_error\"].mean()\n",
    "\n",
    "print(f\"Accuracy            : {accuracy}\")\n",
    "print(f\"Angle error         : {angle_error_mean}\")\n",
    "print(f\"Translation error   : {translate_error_mean}\")"
   ]
  },
  {
   "cell_type": "code",
   "execution_count": 11,
   "metadata": {},
   "outputs": [],
   "source": [
    "src_keypts.paint_uniform_color([1, 0.706, 0])\n",
    "tgt_keypts.paint_uniform_color([0, 0.651, 0.929])\n",
    "\n",
    "src_keypts.transform(result_ransac.transformation)\n",
    "\n",
    "open3d.visualization.draw_geometries([src_keypts, tgt_keypts])"
   ]
  },
  {
   "cell_type": "code",
   "execution_count": 14,
   "metadata": {},
   "outputs": [],
   "source": [
    "i = 20\n",
    "src_keypts, src_features, src_scores = read_features_file(f\"{features_dir}/frame-{i:06d}.estimated.npz\")\n",
    "tgt_keypts, tgt_features, tgt_scores = read_features_file(f\"{features_dir}/frame-{(i + 25):06d}.original.npz\")\n",
    "\n",
    "result_ransac = execute_global_registration(src_keypts, tgt_keypts, src_features, tgt_features, 0.05)"
   ]
  },
  {
   "cell_type": "code",
   "execution_count": 15,
   "metadata": {},
   "outputs": [
    {
     "name": "stdout",
     "output_type": "stream",
     "text": [
      "Keypts: [21314, 8824]\tNo of matches: 5246\n"
     ]
    }
   ],
   "source": [
    "to_print = f\"Keypts: [{len(src_keypts.points)}, {len(tgt_keypts.points)}]\\t\"\n",
    "to_print += f\"No of matches: {len(result_ransac.correspondence_set)}\"\n",
    "\n",
    "print(to_print)"
   ]
  },
  {
   "cell_type": "code",
   "execution_count": 16,
   "metadata": {},
   "outputs": [],
   "source": [
    "src_keypts.paint_uniform_color([1, 0.706, 0])\n",
    "tgt_keypts.paint_uniform_color([0, 0.651, 0.929])\n",
    "\n",
    "src_keypts.transform(result_ransac.transformation)\n",
    "\n",
    "open3d.visualization.draw_geometries([src_keypts, tgt_keypts])"
   ]
  },
  {
   "cell_type": "code",
   "execution_count": 18,
   "metadata": {},
   "outputs": [],
   "source": [
    "pose1 = np.loadtxt(os.path.join(dataset_dir, f\"frame-{1:06d}.pose.txt\"))\n",
    "pose2 = np.loadtxt(os.path.join(dataset_dir, f\"frame-{1 + 25:06d}.pose.txt\"))\n",
    "\n",
    "gt_tranformation = np.dot(pose1, inv_transform(pose2))\n",
    "\n",
    "angle_error = np.sum(np.abs(angles(gt_tranformation) - angles(result_ransac.transformation)))\n",
    "translate_error = np.sum(np.abs(translation(gt_tranformation) - translation(result_ransac.transformation)))"
   ]
  },
  {
   "cell_type": "code",
   "execution_count": 20,
   "metadata": {},
   "outputs": [
    {
     "data": {
      "text/plain": [
       "(10.438256083077484, 0.20384485255769003)"
      ]
     },
     "execution_count": 20,
     "metadata": {},
     "output_type": "execute_result"
    }
   ],
   "source": [
    "angle_error, translate_error"
   ]
  },
  {
   "cell_type": "code",
   "execution_count": null,
   "metadata": {},
   "outputs": [],
   "source": []
  }
 ],
 "metadata": {
  "kernelspec": {
   "display_name": "Python 3.7.9 ('lidar')",
   "language": "python",
   "name": "python3"
  },
  "language_info": {
   "codemirror_mode": {
    "name": "ipython",
    "version": 3
   },
   "file_extension": ".py",
   "mimetype": "text/x-python",
   "name": "python",
   "nbconvert_exporter": "python",
   "pygments_lexer": "ipython3",
   "version": "3.7.9"
  },
  "orig_nbformat": 4,
  "vscode": {
   "interpreter": {
    "hash": "71ec0456078ee969ee04deec14dae5ce507385324b4d068644fb8e515e3f77ec"
   }
  }
 },
 "nbformat": 4,
 "nbformat_minor": 2
}
