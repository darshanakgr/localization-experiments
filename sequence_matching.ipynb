{
 "cells": [
  {
   "cell_type": "code",
   "execution_count": 17,
   "metadata": {
    "collapsed": false,
    "pycharm": {
     "name": "#%%\n"
    }
   },
   "outputs": [],
   "source": [
    "import open3d\n",
    "import numpy as np\n",
    "import pandas as pd\n",
    "import os\n",
    "import tqdm"
   ]
  },
  {
   "cell_type": "code",
   "execution_count": 2,
   "metadata": {
    "collapsed": false,
    "pycharm": {
     "name": "#%%\n"
    }
   },
   "outputs": [],
   "source": [
    "def preprocess_pcd(pcd, voxel_size):\n",
    "    pcd_down = open3d.voxel_down_sample(pcd, voxel_size)\n",
    "\n",
    "    radius_normal = voxel_size * 2\n",
    "    open3d.geometry.estimate_normals(pcd_down, open3d.geometry.KDTreeSearchParamHybrid(radius=radius_normal, max_nn=30))\n",
    "\n",
    "    radius_feature = voxel_size * 5\n",
    "    pcd_fpfh = open3d.registration.compute_fpfh_feature(pcd_down, open3d.geometry.KDTreeSearchParamHybrid(radius=radius_feature, max_nn=100))\n",
    "    return pcd_down, pcd_fpfh\n",
    "\n",
    "\n",
    "def execute_global_registration(source_down, target_down, source_fpfh, target_fpfh, voxel_size):\n",
    "    distance_threshold = voxel_size * 1.5\n",
    "    result = open3d.registration.registration_ransac_based_on_feature_matching(\n",
    "        source_down, target_down, source_fpfh, target_fpfh, distance_threshold,\n",
    "        open3d.registration.TransformationEstimationPointToPoint(False), 4, \n",
    "        [open3d.registration.CorrespondenceCheckerBasedOnEdgeLength(0.9), open3d.registration.CorrespondenceCheckerBasedOnDistance(distance_threshold)],\n",
    "        open3d.registration.RANSACConvergenceCriteria(4000000, 500))\n",
    "    return result\n",
    "\n",
    "\n",
    "def refine_registration(source, target, voxel_size, t):\n",
    "    distance_threshold = voxel_size * 0.4\n",
    "    result = open3d.registration.registration_icp(source, target, distance_threshold, t, open3d.registration.TransformationEstimationPointToPlane())\n",
    "    return result\n",
    "\n",
    "def read_pcd_file(file_path, voxel_size):\n",
    "    pcd = open3d.io.read_point_cloud(file_path)\n",
    "    pcd = open3d.geometry.voxel_down_sample(pcd, voxel_size)\n",
    "    return pcd"
   ]
  },
  {
   "cell_type": "code",
   "execution_count": 24,
   "metadata": {
    "collapsed": false,
    "pycharm": {
     "name": "#%%\n"
    }
   },
   "outputs": [],
   "source": [
    "data_dir = \"data/DatasetV2/Sequence/04\"\n",
    "\n",
    "pcd_files = os.listdir(data_dir)\n",
    "pcd_files = sorted(pcd_files, key=lambda f: int(f.split(\".\")[0].split(\"_\")[1]))"
   ]
  },
  {
   "cell_type": "code",
   "execution_count": 25,
   "metadata": {
    "collapsed": false,
    "pycharm": {
     "name": "#%%\n"
    }
   },
   "outputs": [],
   "source": [
    "source = open3d.io.read_point_cloud(os.path.join(data_dir, pcd_files[0]))\n",
    "target = open3d.io.read_point_cloud(os.path.join(data_dir, pcd_files[1]))\n",
    "\n",
    "source, source_fpfh = preprocess_pcd(source, 0.05)\n",
    "target, target_fpfh = preprocess_pcd(target, 0.05)\n",
    "\n",
    "source.paint_uniform_color([0.906, 0.298, 0.236])\n",
    "target.paint_uniform_color([0.204, 0.596, 0.859])\n",
    "\n",
    "ransac_result = execute_global_registration(source, target, source_fpfh, target_fpfh, 0.05)\n",
    "\n",
    "source.transform(ransac_result.transformation)\n",
    "\n",
    "open3d.draw_geometries([source, target])"
   ]
  },
  {
   "cell_type": "code",
   "execution_count": 30,
   "metadata": {
    "collapsed": false,
    "pycharm": {
     "name": "#%%\n"
    }
   },
   "outputs": [],
   "source": [
    "pcds = []\n",
    "n_samples = 3\n",
    "\n",
    "for i in range(len(pcd_files) // n_samples):\n",
    "\n",
    "    source = open3d.io.read_point_cloud(os.path.join(data_dir, pcd_files[n_samples * i]))\n",
    "\n",
    "    for j in range(n_samples):\n",
    "        target = open3d.io.read_point_cloud(os.path.join(data_dir, pcd_files[n_samples * i + j + 1]))\n",
    "\n",
    "        source, source_fpfh = preprocess_pcd(source, 0.05)\n",
    "        target, target_fpfh = preprocess_pcd(target, 0.05)\n",
    "\n",
    "        source.paint_uniform_color([0.906, 0.298, 0.236])\n",
    "        target.paint_uniform_color([0.204, 0.596, 0.859])\n",
    "\n",
    "        ransac_result = execute_global_registration(source, target, source_fpfh, target_fpfh, 0.05)\n",
    "        \n",
    "        icp_result = refine_registration(source, target, 0.05, ransac_result.transformation)\n",
    "\n",
    "        source.transform(icp_result.transformation)\n",
    "        \n",
    "        source = source + target\n",
    "    \n",
    "    source.paint_uniform_color([0.906, 0.298, 0.236])\n",
    "    # open3d.draw_geometries([source])\n",
    "    \n",
    "    pcds.append(source)"
   ]
  },
  {
   "cell_type": "code",
   "execution_count": 32,
   "metadata": {
    "collapsed": false,
    "pycharm": {
     "name": "#%%\n"
    }
   },
   "outputs": [],
   "source": [
    "for i in range(len(pcds) - 1):\n",
    "    source, source_fpfh = preprocess_pcd(pcds[i], 0.05)\n",
    "    target, target_fpfh = preprocess_pcd(pcds[i + 1], 0.05)\n",
    "\n",
    "    source.paint_uniform_color([0.906, 0.298, 0.236])\n",
    "    target.paint_uniform_color([0.204, 0.596, 0.859])\n",
    "\n",
    "    ransac_result = execute_global_registration(source, target, source_fpfh, target_fpfh, 0.05)\n",
    "    \n",
    "    icp_result = refine_registration(source, target, 0.05, ransac_result.transformation)\n",
    "\n",
    "    source.transform(icp_result.transformation)\n",
    "    \n",
    "    open3d.draw_geometries([source, target])"
   ]
  },
  {
   "cell_type": "code",
   "execution_count": null,
   "metadata": {
    "collapsed": false,
    "pycharm": {
     "name": "#%%\n"
    }
   },
   "outputs": [],
   "source": [
    "output_dir = data_dir.replace(\"Sequence\", \"SequenceCombined\")\n",
    "\n",
    "if not os.path.exists(output_dir): os.mkdir(output_dir)\n",
    "\n",
    "for i, pcd in enumerate(pcds):\n",
    "    open3d.io.write_point_cloud(os.path.join(output_dir, f\"seq_{data_dir[-2:]}_{i}.pcd\"), pcd)"
   ]
  },
  {
   "cell_type": "code",
   "execution_count": 19,
   "metadata": {},
   "outputs": [],
   "source": [
    "def make_pcd(points, color=None):\n",
    "    c = [1, 0, 0] if color is None else color\n",
    "    pcd = open3d.geometry.PointCloud()\n",
    "    pcd.points = open3d.utility.Vector3dVector(points)\n",
    "    pcd.colors = open3d.utility.Vector3dVector([c for i in range(len(points))])\n",
    "    return pcd\n",
    "\n",
    "def get_limits(pcd):\n",
    "    pcd_points = np.asarray(pcd.points)\n",
    "\n",
    "    x_min, y_min, z_min = np.min(pcd_points, axis=0)\n",
    "    x_max, y_max, z_max = np.max(pcd_points, axis=0)\n",
    "\n",
    "    return x_min, x_max, y_min, y_max, z_min, z_max\n",
    "\n",
    "def get_grid(pcd, cell_size):\n",
    "    x_min, x_max, y_min, y_max, z_min, z_max = get_limits(pcd)\n",
    "    y_val = np.mean([y_min, y_max])\n",
    "\n",
    "    points = []\n",
    "    x_n = int((x_max - x_min) // cell_size)\n",
    "    z_n = int((z_max - z_min) // cell_size)\n",
    "    for i in range(z_n):\n",
    "        z0 = float(z_min + cell_size * (i + 1))\n",
    "        for j in range(x_n):\n",
    "            x0 = float(x_min + cell_size * (j + 1))\n",
    "            points.append([x0, y_val, z0])\n",
    "\n",
    "    return points\n",
    "\n",
    "def get_features(feature_file):\n",
    "    data = np.load(feature_file)\n",
    "    scores = data[\"scores\"]\n",
    "    features = open3d.registration.Feature()\n",
    "    features.data = data[\"features\"].T\n",
    "    keypts = open3d.geometry.PointCloud()\n",
    "    keypts.points = open3d.utility.Vector3dVector(data[\"keypts\"])\n",
    "    return keypts, features, scores\n",
    "\n",
    "def filter_indices(points, p, cell_size):\n",
    "    px_min = p[0] - cell_size\n",
    "    px_max = p[0] + cell_size\n",
    "    pz_min = p[2] - cell_size\n",
    "    pz_max = p[2] + cell_size\n",
    "    xf = np.logical_and(points[:, 0] > px_min, points[:, 0] < px_max)\n",
    "    zf = np.logical_and(points[:, 2] > pz_min, points[:, 2] < pz_max)\n",
    "    return np.logical_and(xf, zf)\n",
    "\n",
    "def get_cell_features(feature_file, p, cell_size):\n",
    "    data = np.load(feature_file)\n",
    "    scores = data[\"scores\"]\n",
    "\n",
    "    f = filter_indices(data[\"keypts\"], p, cell_size)\n",
    "    f = np.where(f)[0]\n",
    "\n",
    "    features = open3d.registration.Feature()\n",
    "    features.data = data[\"features\"][f].T\n",
    "\n",
    "    keypts = open3d.geometry.PointCloud()\n",
    "    keypts.points = open3d.utility.Vector3dVector(data[\"keypts\"][f])\n",
    "\n",
    "    return keypts, features, scores\n",
    "\n",
    "def registration(src_keypts, tgt_keypts, src_desc, tgt_desc, distance_threshold):\n",
    "    result = open3d.registration_ransac_based_on_feature_matching(\n",
    "        src_keypts, tgt_keypts, src_desc, tgt_desc,\n",
    "        distance_threshold,\n",
    "        open3d.TransformationEstimationPointToPoint(False), 3,\n",
    "        [open3d.CorrespondenceCheckerBasedOnEdgeLength(0.9),\n",
    "         open3d.CorrespondenceCheckerBasedOnDistance(distance_threshold),\n",
    "         open3d.CorrespondenceCheckerBasedOnNormal(normal_angle_threshold=np.deg2rad(30.0))],\n",
    "        open3d.RANSACConvergenceCriteria(40000000, 600))\n",
    "    return result\n",
    "\n",
    "def print_registration_result(src_keypts, tgt_keypts, result_ransac, end=\"\\n\"):\n",
    "    print(f\"Keypts: [{len(src_keypts.points)}, {len(tgt_keypts.points)}]\", end=\"\\t\")\n",
    "    print(f\"No of matches: {len(result_ransac.correspondence_set)}\", end=\"\\t\")\n",
    "    print(f\"Inlier RMSE: {result_ransac.inlier_rmse:.4f}\", end=end)\n",
    "    \n",
    "def create_camera(camera_width, color):\n",
    "    points = np.array([[0, 0, 0], [1, 0, 0], [0, 1, 0], [1, 1, 0], [0, 0, 1], [1, 0, 1], [0, 1, 1], [1, 1, 1]])\n",
    "    points = points * camera_width\n",
    "    points = points - camera_width / 2\n",
    "    lines = [[0, 1], [0, 2], [1, 3], [2, 3], [4, 5], [4, 6], [5, 7], [6, 7], [0, 4], [1, 5], [2, 6], [3, 7]]\n",
    "    colors = [color for i in range(len(lines))]\n",
    "    line_set = open3d.geometry.LineSet()\n",
    "    line_set.points = open3d.utility.Vector3dVector(points)\n",
    "    line_set.lines = open3d.utility.Vector2iVector(lines)\n",
    "    line_set.colors = open3d.utility.Vector3dVector(colors)\n",
    "    return line_set\n",
    "\n",
    "def rgb(r, g, b):\n",
    "    return r / 255.0, g / 255.0, b / 255.0"
   ]
  },
  {
   "cell_type": "code",
   "execution_count": 20,
   "metadata": {
    "collapsed": false,
    "pycharm": {
     "name": "#%%\n"
    }
   },
   "outputs": [],
   "source": [
    "cell_size = 3\n",
    "\n",
    "tgt_pcd_file = \"data/DatasetV2/Primary/07/lidar_1637299421190934300.pcd\"\n",
    "tgt_file_name = tgt_pcd_file.split('/')[-1]\n",
    "tgt_feature_file = f\"data/FeaturesV8/0.05/{tgt_file_name.replace('pcd', 'npz')}\"\n",
    "\n",
    "pcd = open3d.read_point_cloud(tgt_pcd_file)\n",
    "pcd = open3d.voxel_down_sample(pcd, 0.025)\n",
    "pcd.paint_uniform_color(rgb(149, 165, 166))\n",
    "\n",
    "grid_points = get_grid(pcd, cell_size)\n",
    "grid = make_pcd(grid_points)"
   ]
  },
  {
   "cell_type": "code",
   "execution_count": 23,
   "metadata": {},
   "outputs": [
    {
     "data": {
      "application/vnd.jupyter.widget-view+json": {
       "model_id": "9e03c232797648c5bd2eaf79fa7022d2",
       "version_major": 2,
       "version_minor": 0
      },
      "text/plain": [
       "  0%|          | 0/35 [00:00<?, ?it/s]"
      ]
     },
     "metadata": {},
     "output_type": "display_data"
    },
    {
     "data": {
      "application/vnd.jupyter.widget-view+json": {
       "model_id": "f9131ff2831842ba9ad07fd45ac4beb9",
       "version_major": 2,
       "version_minor": 0
      },
      "text/plain": [
       "  0%|          | 0/35 [00:00<?, ?it/s]"
      ]
     },
     "metadata": {},
     "output_type": "display_data"
    },
    {
     "data": {
      "application/vnd.jupyter.widget-view+json": {
       "model_id": "ac20796c1c9c44b4afc567dc7aa68581",
       "version_major": 2,
       "version_minor": 0
      },
      "text/plain": [
       "  0%|          | 0/35 [00:00<?, ?it/s]"
      ]
     },
     "metadata": {},
     "output_type": "display_data"
    }
   ],
   "source": [
    "sequence_id = 4\n",
    "sequence_dir = \"data/DatasetV2/SequenceCombined/{:02d}\".format(sequence_id)\n",
    "\n",
    "for seq_file_name in os.listdir(sequence_dir):\n",
    "    src_feature_file = os.path.join(\"data/FeaturesV8/0.05/\", seq_file_name.replace(\"pcd\", \"npz\"))\n",
    "    best_score = 0\n",
    "    best_p = None\n",
    "    t = None\n",
    "\n",
    "    for p in tqdm.notebook.tqdm(grid_points):\n",
    "        src_keypts, src_features, src_scores = get_features(src_feature_file)\n",
    "        tgt_keypts, tgt_features, tgt_scores = get_cell_features(tgt_feature_file, p, cell_size)\n",
    "\n",
    "        if len(tgt_keypts.points) < 2000:\n",
    "            continue\n",
    "\n",
    "        src_keypts.paint_uniform_color([1, 0.706, 0])\n",
    "        tgt_keypts.paint_uniform_color([0, 0.651, 0.929])\n",
    "\n",
    "        result_ransac = registration(src_keypts, tgt_keypts, src_features, tgt_features, 0.05)\n",
    "        \n",
    "        # print_registration_result(src_keypts, tgt_keypts, result_ransac, end=\"\\n\")\n",
    "\n",
    "        if best_score < len(result_ransac.correspondence_set):\n",
    "            best_score = len(result_ransac.correspondence_set)\n",
    "            best_p = p\n",
    "            t = result_ransac.transformation\n",
    "            \n",
    "    if best_p is not None:\n",
    "        src_keypts, src_features, src_scores = get_features(src_feature_file)\n",
    "\n",
    "        src_keypts.paint_uniform_color([1, 0.706, 0])\n",
    "\n",
    "        src_camera = create_camera(camera_width=0.25, color=[1, 0, 0])\n",
    "\n",
    "        result = open3d.registration.registration_icp(\n",
    "            src_keypts, pcd, 0.05, t, open3d.registration.TransformationEstimationPointToPoint()\n",
    "        )\n",
    "\n",
    "        src_keypts.transform(result.transformation)\n",
    "        src_camera.transform(result.transformation)\n",
    "        open3d.visualization.draw_geometries([src_keypts, pcd, src_camera, grid])\n"
   ]
  },
  {
   "cell_type": "code",
   "execution_count": null,
   "metadata": {},
   "outputs": [],
   "source": []
  }
 ],
 "metadata": {
  "interpreter": {
   "hash": "71ec0456078ee969ee04deec14dae5ce507385324b4d068644fb8e515e3f77ec"
  },
  "kernelspec": {
   "display_name": "Python 3.7.9 ('lidar')",
   "language": "python",
   "name": "python3"
  },
  "language_info": {
   "codemirror_mode": {
    "name": "ipython",
    "version": 3
   },
   "file_extension": ".py",
   "mimetype": "text/x-python",
   "name": "python",
   "nbconvert_exporter": "python",
   "pygments_lexer": "ipython3",
   "version": "3.7.9"
  }
 },
 "nbformat": 4,
 "nbformat_minor": 0
}
