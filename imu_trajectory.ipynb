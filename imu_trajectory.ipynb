{
 "cells": [
  {
   "cell_type": "code",
   "execution_count": 1,
   "outputs": [],
   "source": [
    "import numpy as np\n",
    "import pandas as pd\n",
    "import os\n",
    "from scipy.integrate import cumulative_trapezoid, trapezoid\n",
    "from scipy.integrate import dblquad"
   ],
   "metadata": {
    "collapsed": false,
    "pycharm": {
     "name": "#%%\n"
    }
   }
  },
  {
   "cell_type": "code",
   "execution_count": 40,
   "outputs": [],
   "source": [
    "def moving_average(x, w):\n",
    "    return np.convolve(x, np.ones(w), 'same') / w\n",
    "\n",
    "def low_pass_filter(x):\n",
    "    g = np.append(0., x[:-1])\n",
    "    g = 0.9 * g + 0.1 * x\n",
    "    return x - g"
   ],
   "metadata": {
    "collapsed": false,
    "pycharm": {
     "name": "#%%\n"
    }
   }
  },
  {
   "cell_type": "code",
   "execution_count": 3,
   "outputs": [],
   "source": [
    "%matplotlib inline"
   ],
   "metadata": {
    "collapsed": false,
    "pycharm": {
     "name": "#%%\n"
    }
   }
  },
  {
   "cell_type": "code",
   "execution_count": 4,
   "outputs": [],
   "source": [
    "sequence_dir = \"data/DatasetV1/Sequence/03\"\n",
    "\n",
    "accel_path = os.path.join(sequence_dir, \"accelerometer.csv\")\n",
    "gyro_path = os.path.join(sequence_dir, \"gyroscope.csv\")"
   ],
   "metadata": {
    "collapsed": false,
    "pycharm": {
     "name": "#%%\n"
    }
   }
  },
  {
   "cell_type": "code",
   "execution_count": 41,
   "outputs": [],
   "source": [
    "accel_df = pd.read_csv(accel_path, index_col=0)\n",
    "\n",
    "accel_df.iloc[:, 1:] = accel_df.iloc[:, 1:].apply(lambda x: moving_average(x, 3), axis=0)\n",
    "accel_df.set_index(\"t\", inplace=True)\n",
    "\n",
    "accel_df[\"et\"] = (accel_df.index - accel_df.index[0]) / 10 ** 9\n",
    "accel_df.drop_duplicates(\"et\", keep=\"last\", inplace=True)"
   ],
   "metadata": {
    "collapsed": false,
    "pycharm": {
     "name": "#%%\n"
    }
   }
  },
  {
   "cell_type": "code",
   "execution_count": 44,
   "outputs": [],
   "source": [
    "accel_df = pd.read_csv(accel_path, index_col=0)\n",
    "\n",
    "global_a = pd.DataFrame([[0, 0, 0, 0]], columns=[\"t\", \"x\", \"y\", \"z\"])\n",
    "\n",
    "accel_df = pd.concat((global_a, accel_df))\n",
    "accel_df.set_index(\"t\", inplace=True)\n",
    "\n",
    "accel_df.iloc[:, 1:] = accel_df.iloc[:, 1:].apply(lambda x: low_pass_filter(x), axis=0)\n",
    "\n",
    "# accel_df[\"et\"] = (accel_df.index - accel_df.index[0]) / 10 ** 9\n",
    "# accel_df.drop_duplicates(\"et\", keep=\"last\", inplace=True)"
   ],
   "metadata": {
    "collapsed": false,
    "pycharm": {
     "name": "#%%\n"
    }
   }
  },
  {
   "cell_type": "code",
   "execution_count": 45,
   "outputs": [
    {
     "data": {
      "text/plain": "<AxesSubplot:xlabel='t'>"
     },
     "execution_count": 45,
     "metadata": {},
     "output_type": "execute_result"
    },
    {
     "data": {
      "text/plain": "<Figure size 432x288 with 1 Axes>",
      "image/png": "[encoded data removed]"
     },
     "metadata": {
      "needs_background": "light"
     },
     "output_type": "display_data"
    }
   ],
   "source": [
    "accel_df.plot()"
   ],
   "metadata": {
    "collapsed": false,
    "pycharm": {
     "name": "#%%\n"
    }
   }
  },
  {
   "cell_type": "code",
   "execution_count": 37,
   "outputs": [],
   "source": [
    "accel_df[\"vx\"] = cumulative_trapezoid(accel_df[\"x\"], accel_df[\"et\"], initial=0)\n",
    "accel_df[\"vy\"] = cumulative_trapezoid(accel_df[\"y\"], accel_df[\"et\"], initial=0)\n",
    "accel_df[\"vz\"] = cumulative_trapezoid(accel_df[\"z\"], accel_df[\"et\"], initial=0)\n",
    "\n",
    "accel_df[\"dx\"] = cumulative_trapezoid(accel_df[\"vx\"], accel_df[\"et\"], initial=0)\n",
    "accel_df[\"dy\"] = cumulative_trapezoid(accel_df[\"vy\"], accel_df[\"et\"], initial=0)\n",
    "accel_df[\"dz\"] = cumulative_trapezoid(accel_df[\"vz\"], accel_df[\"et\"], initial=0)"
   ],
   "metadata": {
    "collapsed": false,
    "pycharm": {
     "name": "#%%\n"
    }
   }
  },
  {
   "cell_type": "code",
   "execution_count": 38,
   "outputs": [],
   "source": [
    "distance_df = accel_df.iloc[:, 7:]"
   ],
   "metadata": {
    "collapsed": false,
    "pycharm": {
     "name": "#%%\n"
    }
   }
  },
  {
   "cell_type": "code",
   "execution_count": 39,
   "outputs": [
    {
     "data": {
      "text/plain": "<AxesSubplot:xlabel='t'>"
     },
     "execution_count": 39,
     "metadata": {},
     "output_type": "execute_result"
    },
    {
     "data": {
      "text/plain": "<Figure size 432x288 with 1 Axes>",
      "image/png": "[encoded data removed]"
     },
     "metadata": {
      "needs_background": "light"
     },
     "output_type": "display_data"
    }
   ],
   "source": [
    "distance_df.plot()"
   ],
   "metadata": {
    "collapsed": false,
    "pycharm": {
     "name": "#%%\n"
    }
   }
  },
  {
   "cell_type": "code",
   "execution_count": 198,
   "outputs": [],
   "source": [
    "  accel_df = pd.read_csv(accel_path, index_col=0)\n",
    "\n",
    "accel_df.iloc[:, 1:] = accel_df.iloc[:, 1:].apply(lambda x: moving_average(x, 3), axis=0)\n",
    "\n",
    "accel_df.drop_duplicates(\"t\", keep=\"last\", inplace=True)\n",
    "accel_df.reset_index(drop=True, inplace=True)\n",
    "accel_df.set_index(\"t\", inplace=True)\n",
    "\n",
    "accel_df[\"et\"] = (accel_df.index - accel_df.index[0]) / 10 ** 9"
   ],
   "metadata": {
    "collapsed": false,
    "pycharm": {
     "name": "#%%\n"
    }
   }
  },
  {
   "cell_type": "code",
   "execution_count": 199,
   "outputs": [],
   "source": [
    "accel_df.loc[:, \"a\"] = np.sqrt(accel_df.x ** 2 + accel_df.y ** 2 + accel_df.z ** 2)"
   ],
   "metadata": {
    "collapsed": false,
    "pycharm": {
     "name": "#%%\n"
    }
   }
  },
  {
   "cell_type": "code",
   "execution_count": 200,
   "outputs": [],
   "source": [
    "accel_df.a = accel_df.a - 9.8 # accel_df.a.mean()"
   ],
   "metadata": {
    "collapsed": false,
    "pycharm": {
     "name": "#%%\n"
    }
   }
  },
  {
   "cell_type": "code",
   "execution_count": 201,
   "outputs": [],
   "source": [
    "accel_df[\"v\"] = cumulative_trapezoid(accel_df[\"a\"], accel_df[\"et\"], initial=0)\n",
    "accel_df[\"d\"] = cumulative_trapezoid(accel_df[\"v\"], accel_df[\"et\"], initial=0)"
   ],
   "metadata": {
    "collapsed": false,
    "pycharm": {
     "name": "#%%\n"
    }
   }
  },
  {
   "cell_type": "code",
   "execution_count": 202,
   "outputs": [
    {
     "data": {
      "text/plain": "<AxesSubplot:xlabel='t'>"
     },
     "execution_count": 202,
     "metadata": {},
     "output_type": "execute_result"
    },
    {
     "data": {
      "text/plain": "<Figure size 432x288 with 1 Axes>",
      "image/png": "[encoded data removed]"
     },
     "metadata": {
      "needs_background": "light"
     },
     "output_type": "display_data"
    }
   ],
   "source": [
    "accel_df.d.plot()"
   ],
   "metadata": {
    "collapsed": false,
    "pycharm": {
     "name": "#%%\n"
    }
   }
  },
  {
   "cell_type": "code",
   "execution_count": 192,
   "outputs": [],
   "source": [
    "gyro_df = pd.read_csv(gyro_path, index_col=0)\n",
    "\n",
    "gyro_df.iloc[:, 1:] = gyro_df.iloc[:, 1:].apply(lambda x: moving_average(x, 3), axis=0)\n",
    "\n",
    "gyro_df.drop_duplicates(\"t\", keep=\"last\", inplace=True)\n",
    "gyro_df.reset_index(drop=True, inplace=True)\n",
    "gyro_df.set_index(\"t\", inplace=True)\n",
    "\n",
    "gyro_df[\"et\"] = (gyro_df.index - gyro_df.index[0]) / 10 ** 9"
   ],
   "metadata": {
    "collapsed": false,
    "pycharm": {
     "name": "#%%\n"
    }
   }
  },
  {
   "cell_type": "code",
   "execution_count": 193,
   "outputs": [],
   "source": [
    "gyro_df[\"ax\"] = cumulative_trapezoid(gyro_df[\"x\"], gyro_df[\"et\"], initial=0)\n",
    "gyro_df[\"ay\"] = cumulative_trapezoid(gyro_df[\"y\"], gyro_df[\"et\"], initial=0)\n",
    "gyro_df[\"az\"] = cumulative_trapezoid(gyro_df[\"z\"], gyro_df[\"et\"], initial=0)"
   ],
   "metadata": {
    "collapsed": false,
    "pycharm": {
     "name": "#%%\n"
    }
   }
  },
  {
   "cell_type": "code",
   "execution_count": 194,
   "outputs": [],
   "source": [
    "angle_df = gyro_df.iloc[:, 4:]"
   ],
   "metadata": {
    "collapsed": false,
    "pycharm": {
     "name": "#%%\n"
    }
   }
  },
  {
   "cell_type": "code",
   "execution_count": 195,
   "outputs": [
    {
     "data": {
      "text/plain": "<AxesSubplot:xlabel='t'>"
     },
     "execution_count": 195,
     "metadata": {},
     "output_type": "execute_result"
    },
    {
     "data": {
      "text/plain": "<Figure size 432x288 with 1 Axes>",
      "image/png": "[encoded data removed]"
     },
     "metadata": {
      "needs_background": "light"
     },
     "output_type": "display_data"
    }
   ],
   "source": [
    "angle_df.plot()"
   ],
   "metadata": {
    "collapsed": false,
    "pycharm": {
     "name": "#%%\n"
    }
   }
  },
  {
   "cell_type": "code",
   "execution_count": 196,
   "outputs": [],
   "source": [
    "gyro_df.loc[:, \"w\"] = np.sqrt(gyro_df.x ** 2 + gyro_df.y ** 2 + gyro_df.z ** 2)\n",
    "gyro_df.loc[:, \"a\"] = cumulative_trapezoid(gyro_df[\"w\"], gyro_df[\"et\"], initial=0)"
   ],
   "metadata": {
    "collapsed": false,
    "pycharm": {
     "name": "#%%\n"
    }
   }
  },
  {
   "cell_type": "code",
   "execution_count": 197,
   "outputs": [
    {
     "data": {
      "text/plain": "<AxesSubplot:xlabel='et'>"
     },
     "execution_count": 197,
     "metadata": {},
     "output_type": "execute_result"
    },
    {
     "data": {
      "text/plain": "<Figure size 432x288 with 1 Axes>",
      "image/png": "[encoded data removed]"
     },
     "metadata": {
      "needs_background": "light"
     },
     "output_type": "display_data"
    }
   ],
   "source": [
    "gyro_df.set_index(\"et\", drop=True).a.plot()"
   ],
   "metadata": {
    "collapsed": false,
    "pycharm": {
     "name": "#%%\n"
    }
   }
  },
  {
   "cell_type": "code",
   "execution_count": 197,
   "outputs": [],
   "source": [],
   "metadata": {
    "collapsed": false,
    "pycharm": {
     "name": "#%%\n"
    }
   }
  }
 ],
 "metadata": {
  "kernelspec": {
   "display_name": "Python 3",
   "language": "python",
   "name": "python3"
  },
  "language_info": {
   "codemirror_mode": {
    "name": "ipython",
    "version": 2
   },
   "file_extension": ".py",
   "mimetype": "text/x-python",
   "name": "python",
   "nbconvert_exporter": "python",
   "pygments_lexer": "ipython2",
   "version": "2.7.6"
  }
 },
 "nbformat": 4,
 "nbformat_minor": 0
}