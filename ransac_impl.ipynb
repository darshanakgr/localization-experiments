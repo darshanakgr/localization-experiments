{
 "cells": [
  {
   "cell_type": "code",
   "execution_count": 1,
   "outputs": [],
   "source": [
    "import numpy as np\n",
    "import open3d\n",
    "import copy\n",
    "import tqdm"
   ],
   "metadata": {
    "collapsed": false,
    "pycharm": {
     "name": "#%%\n"
    }
   }
  },
  {
   "cell_type": "code",
   "execution_count": 2,
   "outputs": [],
   "source": [
    "def read_features_file(file_path):\n",
    "    data = np.load(file_path)\n",
    "    features = open3d.registration.Feature()\n",
    "    features.data = data[\"features\"].T\n",
    "    keypts = open3d.PointCloud()\n",
    "    keypts.points = open3d.Vector3dVector(data[\"keypts\"])\n",
    "    scores = data[\"scores\"]\n",
    "    return keypts, features, scores\n",
    "\n",
    "\n",
    "def execute_global_registration(src_keypts, tgt_keypts, src_desc, tgt_desc, distance_threshold):\n",
    "    result = open3d.registration_ransac_based_on_feature_matching(\n",
    "        src_keypts, tgt_keypts, src_desc, tgt_desc,\n",
    "        distance_threshold,\n",
    "        open3d.TransformationEstimationPointToPoint(False), 3,\n",
    "        [open3d.CorrespondenceCheckerBasedOnEdgeLength(0.9),\n",
    "         open3d.CorrespondenceCheckerBasedOnDistance(distance_threshold)],\n",
    "        open3d.RANSACConvergenceCriteria(4000000, 500))\n",
    "    return result\n"
   ],
   "metadata": {
    "collapsed": false,
    "pycharm": {
     "name": "#%%\n"
    }
   }
  },
  {
   "cell_type": "code",
   "execution_count": 3,
   "outputs": [],
   "source": [
    "transformations = np.load(\"data/GroundTruthTransforms/ground_truth_transformations.npz\")"
   ],
   "metadata": {
    "collapsed": false,
    "pycharm": {
     "name": "#%%\n"
    }
   }
  },
  {
   "cell_type": "code",
   "execution_count": 4,
   "outputs": [],
   "source": [
    "source_id = transformations[\"source_ids\"][0]\n",
    "target_id = transformations[\"target_ids\"][0]\n",
    "is_match = transformations[\"correct_matches\"][0]\n",
    "transformation_gt = transformations[\"transformations\"][0]\n",
    "\n",
    "src_features_file = f\"data/Features/0.03/{source_id}.npz\"\n",
    "tgt_features_file = f\"data/Features/0.03/{target_id}.npz\"\n",
    "\n",
    "src_keypts, src_features, src_scores = read_features_file(src_features_file)\n",
    "tgt_keypts, tgt_features, tgt_scores = read_features_file(tgt_features_file)\n",
    "\n",
    "# src_keypts.transform(result_ransac.transformation)\n",
    "\n",
    "# open3d.draw_geometries([src_keypts, tgt_keypts])"
   ],
   "metadata": {
    "collapsed": false,
    "pycharm": {
     "name": "#%%\n"
    }
   }
  },
  {
   "cell_type": "code",
   "execution_count": 5,
   "outputs": [],
   "source": [
    "# source = src_keypts\n",
    "# target = tgt_keypts\n",
    "#\n",
    "# source_features = src_features\n",
    "# target_features = tgt_features\n",
    "#\n",
    "# max_correspondence_distance = 0.05\n",
    "# estimation = open3d.TransformationEstimationPointToPoint(False)\n",
    "#\n",
    "# ransac_n = 3\n",
    "#\n",
    "# checkers = [open3d.CorrespondenceCheckerBasedOnEdgeLength(0.9), open3d.CorrespondenceCheckerBasedOnDistance(max_correspondence_distance)]\n",
    "#\n",
    "# criteria = open3d.RANSACConvergenceCriteria(4000000, 500)"
   ],
   "metadata": {
    "collapsed": false,
    "pycharm": {
     "name": "#%%\n"
    }
   }
  },
  {
   "cell_type": "code",
   "execution_count": 12,
   "outputs": [],
   "source": [
    "def ransac_feature_matching(source, target, source_features, target_features, max_correspondence_distance, estimation, ransac_n, checkers, criteria):\n",
    "    total_validation = 0\n",
    "    finished_validation = False\n",
    "    similar_features = [[] for i in range(len(source.points))]\n",
    "\n",
    "    registration_result = None\n",
    "\n",
    "    kdtree_feature = open3d.geometry.KDTreeFlann(target_features)\n",
    "\n",
    "    limit_max = np.asarray(source.points).max(axis=0)\n",
    "    limit_min = np.asarray(source.points).min(axis=0)\n",
    "\n",
    "    count = 0\n",
    "\n",
    "    for i in tqdm.trange(criteria.max_iteration):\n",
    "        if not finished_validation:\n",
    "            ransac_corres = []\n",
    "            for j in range(ransac_n):\n",
    "                source_sample_id = np.random.randint(0, len(source.points))\n",
    "                if len(similar_features[source_sample_id]) == 0:\n",
    "                    _, indices, dists = kdtree_feature.search_knn_vector_xd(source_features.data[:, source_sample_id], 1)\n",
    "                    similar_features[source_sample_id] = list(indices)\n",
    "                ransac_corres.append([source_sample_id, similar_features[source_sample_id][0]])\n",
    "            check = True\n",
    "\n",
    "            ransac_corres = open3d.utility.Vector2iVector(ransac_corres)\n",
    "            transformation = estimation.compute_transformation(source, target, ransac_corres)\n",
    "\n",
    "            for checker in checkers:\n",
    "                if not checker.Check(source, target, ransac_corres, transformation):\n",
    "                    check = False\n",
    "\n",
    "            if not check: continue\n",
    "\n",
    "            pcd = copy.deepcopy(source)\n",
    "            pcd.transform(transformation)\n",
    "\n",
    "            result = open3d.registration.evaluate_registration(pcd, target, max_correspondence_distance, transformation)\n",
    "\n",
    "            if np.all(result.transformation[:3, 3] > limit_max):\n",
    "                count += 1\n",
    "                continue\n",
    "\n",
    "            if np.all(result.transformation[:3, 3] < limit_min):\n",
    "                count += 1\n",
    "                continue\n",
    "\n",
    "            if not registration_result or registration_result.fitness < result.fitness or registration_result.inlier_rmse > result.inlier_rmse:\n",
    "                    registration_result = result\n",
    "\n",
    "            total_validation += 1\n",
    "            if total_validation >= criteria.max_validation:\n",
    "                finished_validation = True\n",
    "    print(count)\n",
    "    return registration_result"
   ],
   "metadata": {
    "collapsed": false,
    "pycharm": {
     "name": "#%%\n"
    }
   }
  },
  {
   "cell_type": "code",
   "execution_count": 7,
   "outputs": [
    {
     "name": "stderr",
     "output_type": "stream",
     "text": [
      "100%|██████████| 4000000/4000000 [00:05<00:00, 786007.49it/s] \n"
     ]
    }
   ],
   "source": [
    "result_ransac = ransac_feature_matching(\n",
    "    src_keypts, tgt_keypts, src_features, tgt_features,\n",
    "    0.05, open3d.TransformationEstimationPointToPoint(False), 3,\n",
    "    [open3d.CorrespondenceCheckerBasedOnEdgeLength(0.9), open3d.CorrespondenceCheckerBasedOnDistance(0.05)],\n",
    "    open3d.RANSACConvergenceCriteria(4000000, 500)\n",
    ")"
   ],
   "metadata": {
    "collapsed": false,
    "pycharm": {
     "name": "#%%\n"
    }
   }
  },
  {
   "cell_type": "code",
   "execution_count": 8,
   "outputs": [],
   "source": [
    "src_keypts.transform(result_ransac.transformation)\n",
    "\n",
    "open3d.draw_geometries([src_keypts, tgt_keypts])"
   ],
   "metadata": {
    "collapsed": false,
    "pycharm": {
     "name": "#%%\n"
    }
   }
  },
  {
   "cell_type": "code",
   "execution_count": 13,
   "outputs": [
    {
     "name": "stderr",
     "output_type": "stream",
     "text": [
      "100%|██████████| 4000000/4000000 [00:05<00:00, 786339.75it/s] \n"
     ]
    },
    {
     "name": "stdout",
     "output_type": "stream",
     "text": [
      "0\n"
     ]
    },
    {
     "name": "stderr",
     "output_type": "stream",
     "text": [
      "100%|██████████| 4000000/4000000 [00:06<00:00, 649844.12it/s] \n"
     ]
    },
    {
     "name": "stdout",
     "output_type": "stream",
     "text": [
      "0\n"
     ]
    },
    {
     "name": "stderr",
     "output_type": "stream",
     "text": [
      "100%|██████████| 4000000/4000000 [00:34<00:00, 117144.97it/s] \n"
     ]
    },
    {
     "name": "stdout",
     "output_type": "stream",
     "text": [
      "0\n"
     ]
    },
    {
     "name": "stderr",
     "output_type": "stream",
     "text": [
      "100%|██████████| 4000000/4000000 [00:07<00:00, 505382.34it/s] \n"
     ]
    },
    {
     "name": "stdout",
     "output_type": "stream",
     "text": [
      "0\n"
     ]
    },
    {
     "name": "stderr",
     "output_type": "stream",
     "text": [
      "100%|██████████| 4000000/4000000 [00:05<00:00, 763250.91it/s] \n"
     ]
    },
    {
     "name": "stdout",
     "output_type": "stream",
     "text": [
      "0\n"
     ]
    },
    {
     "name": "stderr",
     "output_type": "stream",
     "text": [
      "100%|██████████| 4000000/4000000 [00:05<00:00, 725423.78it/s] \n"
     ]
    },
    {
     "name": "stdout",
     "output_type": "stream",
     "text": [
      "0\n"
     ]
    },
    {
     "name": "stderr",
     "output_type": "stream",
     "text": [
      "100%|██████████| 4000000/4000000 [00:23<00:00, 168016.32it/s] \n"
     ]
    },
    {
     "name": "stdout",
     "output_type": "stream",
     "text": [
      "0\n"
     ]
    },
    {
     "name": "stderr",
     "output_type": "stream",
     "text": [
      "100%|██████████| 4000000/4000000 [00:08<00:00, 497152.06it/s] \n"
     ]
    },
    {
     "name": "stdout",
     "output_type": "stream",
     "text": [
      "0\n"
     ]
    },
    {
     "name": "stderr",
     "output_type": "stream",
     "text": [
      "100%|██████████| 4000000/4000000 [00:06<00:00, 607345.63it/s] \n"
     ]
    },
    {
     "name": "stdout",
     "output_type": "stream",
     "text": [
      "0\n"
     ]
    },
    {
     "name": "stderr",
     "output_type": "stream",
     "text": [
      "100%|██████████| 4000000/4000000 [00:06<00:00, 600337.28it/s] \n"
     ]
    },
    {
     "name": "stdout",
     "output_type": "stream",
     "text": [
      "0\n"
     ]
    },
    {
     "name": "stderr",
     "output_type": "stream",
     "text": [
      "100%|██████████| 4000000/4000000 [00:12<00:00, 321870.87it/s] \n"
     ]
    },
    {
     "name": "stdout",
     "output_type": "stream",
     "text": [
      "0\n"
     ]
    },
    {
     "name": "stderr",
     "output_type": "stream",
     "text": [
      "100%|██████████| 4000000/4000000 [00:04<00:00, 939396.10it/s] \n"
     ]
    },
    {
     "name": "stdout",
     "output_type": "stream",
     "text": [
      "0\n"
     ]
    },
    {
     "name": "stderr",
     "output_type": "stream",
     "text": [
      "100%|██████████| 4000000/4000000 [00:07<00:00, 542759.29it/s] \n"
     ]
    },
    {
     "name": "stdout",
     "output_type": "stream",
     "text": [
      "0\n"
     ]
    },
    {
     "name": "stderr",
     "output_type": "stream",
     "text": [
      "100%|██████████| 4000000/4000000 [00:06<00:00, 646629.02it/s] \n"
     ]
    },
    {
     "name": "stdout",
     "output_type": "stream",
     "text": [
      "0\n"
     ]
    },
    {
     "name": "stderr",
     "output_type": "stream",
     "text": [
      "100%|██████████| 4000000/4000000 [00:11<00:00, 342033.16it/s] \n"
     ]
    },
    {
     "name": "stdout",
     "output_type": "stream",
     "text": [
      "0\n"
     ]
    },
    {
     "name": "stderr",
     "output_type": "stream",
     "text": [
      "100%|██████████| 4000000/4000000 [00:04<00:00, 891526.24it/s] \n"
     ]
    },
    {
     "name": "stdout",
     "output_type": "stream",
     "text": [
      "0\n"
     ]
    },
    {
     "name": "stderr",
     "output_type": "stream",
     "text": [
      "100%|██████████| 4000000/4000000 [00:57<00:00, 69181.04it/s]  \n"
     ]
    },
    {
     "name": "stdout",
     "output_type": "stream",
     "text": [
      "0\n"
     ]
    },
    {
     "name": "stderr",
     "output_type": "stream",
     "text": [
      "100%|██████████| 4000000/4000000 [00:05<00:00, 744870.08it/s] \n"
     ]
    },
    {
     "name": "stdout",
     "output_type": "stream",
     "text": [
      "0\n"
     ]
    },
    {
     "name": "stderr",
     "output_type": "stream",
     "text": [
      "100%|██████████| 4000000/4000000 [00:11<00:00, 350983.45it/s] \n"
     ]
    },
    {
     "name": "stdout",
     "output_type": "stream",
     "text": [
      "0\n"
     ]
    },
    {
     "name": "stderr",
     "output_type": "stream",
     "text": [
      "100%|██████████| 4000000/4000000 [00:06<00:00, 605156.28it/s] \n"
     ]
    },
    {
     "name": "stdout",
     "output_type": "stream",
     "text": [
      "0\n"
     ]
    },
    {
     "name": "stderr",
     "output_type": "stream",
     "text": [
      "100%|██████████| 4000000/4000000 [00:12<00:00, 322646.87it/s] \n"
     ]
    },
    {
     "name": "stdout",
     "output_type": "stream",
     "text": [
      "0\n"
     ]
    },
    {
     "name": "stderr",
     "output_type": "stream",
     "text": [
      "100%|██████████| 4000000/4000000 [00:22<00:00, 181091.56it/s] \n"
     ]
    },
    {
     "name": "stdout",
     "output_type": "stream",
     "text": [
      "0\n"
     ]
    },
    {
     "name": "stderr",
     "output_type": "stream",
     "text": [
      "100%|██████████| 4000000/4000000 [01:26<00:00, 46358.55it/s]  \n"
     ]
    },
    {
     "name": "stdout",
     "output_type": "stream",
     "text": [
      "0\n"
     ]
    },
    {
     "name": "stderr",
     "output_type": "stream",
     "text": [
      "100%|██████████| 4000000/4000000 [00:06<00:00, 642141.07it/s] \n"
     ]
    },
    {
     "name": "stdout",
     "output_type": "stream",
     "text": [
      "0\n"
     ]
    },
    {
     "name": "stderr",
     "output_type": "stream",
     "text": [
      "100%|██████████| 4000000/4000000 [00:05<00:00, 679159.58it/s] \n"
     ]
    },
    {
     "name": "stdout",
     "output_type": "stream",
     "text": [
      "0\n"
     ]
    },
    {
     "name": "stderr",
     "output_type": "stream",
     "text": [
      "100%|██████████| 4000000/4000000 [00:05<00:00, 735399.89it/s] \n"
     ]
    },
    {
     "name": "stdout",
     "output_type": "stream",
     "text": [
      "0\n"
     ]
    },
    {
     "name": "stderr",
     "output_type": "stream",
     "text": [
      "100%|██████████| 4000000/4000000 [00:08<00:00, 462469.30it/s] \n"
     ]
    },
    {
     "name": "stdout",
     "output_type": "stream",
     "text": [
      "0\n"
     ]
    },
    {
     "name": "stderr",
     "output_type": "stream",
     "text": [
      "100%|██████████| 4000000/4000000 [00:23<00:00, 173198.50it/s] \n"
     ]
    },
    {
     "name": "stdout",
     "output_type": "stream",
     "text": [
      "0\n"
     ]
    },
    {
     "name": "stderr",
     "output_type": "stream",
     "text": [
      "100%|██████████| 4000000/4000000 [01:05<00:00, 61019.97it/s]  \n"
     ]
    },
    {
     "name": "stdout",
     "output_type": "stream",
     "text": [
      "0\n"
     ]
    },
    {
     "name": "stderr",
     "output_type": "stream",
     "text": [
      "100%|██████████| 4000000/4000000 [00:09<00:00, 433384.17it/s] \n"
     ]
    },
    {
     "name": "stdout",
     "output_type": "stream",
     "text": [
      "0\n"
     ]
    },
    {
     "name": "stderr",
     "output_type": "stream",
     "text": [
      "100%|██████████| 4000000/4000000 [00:12<00:00, 317867.96it/s] \n"
     ]
    },
    {
     "name": "stdout",
     "output_type": "stream",
     "text": [
      "0\n"
     ]
    },
    {
     "name": "stderr",
     "output_type": "stream",
     "text": [
      "100%|██████████| 4000000/4000000 [00:06<00:00, 619958.46it/s] \n"
     ]
    },
    {
     "name": "stdout",
     "output_type": "stream",
     "text": [
      "0\n"
     ]
    },
    {
     "name": "stderr",
     "output_type": "stream",
     "text": [
      "100%|██████████| 4000000/4000000 [00:08<00:00, 497363.08it/s] \n"
     ]
    },
    {
     "name": "stdout",
     "output_type": "stream",
     "text": [
      "0\n"
     ]
    },
    {
     "name": "stderr",
     "output_type": "stream",
     "text": [
      "100%|██████████| 4000000/4000000 [00:36<00:00, 108657.00it/s] \n"
     ]
    },
    {
     "name": "stdout",
     "output_type": "stream",
     "text": [
      "0\n"
     ]
    },
    {
     "name": "stderr",
     "output_type": "stream",
     "text": [
      "100%|██████████| 4000000/4000000 [01:13<00:00, 54685.81it/s]  \n"
     ]
    },
    {
     "name": "stdout",
     "output_type": "stream",
     "text": [
      "0\n"
     ]
    },
    {
     "name": "stderr",
     "output_type": "stream",
     "text": [
      "100%|██████████| 4000000/4000000 [00:10<00:00, 392890.29it/s] \n"
     ]
    },
    {
     "name": "stdout",
     "output_type": "stream",
     "text": [
      "0\n"
     ]
    },
    {
     "name": "stderr",
     "output_type": "stream",
     "text": [
      "100%|██████████| 4000000/4000000 [00:48<00:00, 82455.58it/s]  \n"
     ]
    },
    {
     "name": "stdout",
     "output_type": "stream",
     "text": [
      "0\n"
     ]
    },
    {
     "name": "stderr",
     "output_type": "stream",
     "text": [
      "100%|██████████| 4000000/4000000 [00:12<00:00, 324212.73it/s] \n"
     ]
    },
    {
     "name": "stdout",
     "output_type": "stream",
     "text": [
      "0\n"
     ]
    },
    {
     "name": "stderr",
     "output_type": "stream",
     "text": [
      "100%|██████████| 4000000/4000000 [00:15<00:00, 257217.94it/s] \n"
     ]
    },
    {
     "name": "stdout",
     "output_type": "stream",
     "text": [
      "0\n"
     ]
    },
    {
     "name": "stderr",
     "output_type": "stream",
     "text": [
      "100%|██████████| 4000000/4000000 [00:56<00:00, 71317.81it/s]  "
     ]
    },
    {
     "name": "stdout",
     "output_type": "stream",
     "text": [
      "0\n"
     ]
    },
    {
     "name": "stderr",
     "output_type": "stream",
     "text": [
      "\n"
     ]
    }
   ],
   "source": [
    "for i in np.arange(transformations[\"source_ids\"].shape[0]):\n",
    "    source_id = transformations[\"source_ids\"][i]\n",
    "    target_id = transformations[\"target_ids\"][i]\n",
    "    is_match = transformations[\"correct_matches\"][i]\n",
    "    transformation = transformations[\"transformations\"][i]\n",
    "    path = transformations[\"paths\"][i]\n",
    "\n",
    "    src_features_file = f\"data/Features/0.03/{source_id}.npz\"\n",
    "    tgt_features_file = f\"data/Features/0.03/{target_id}.npz\"\n",
    "\n",
    "    src_keypts, src_features, src_scores = read_features_file(src_features_file)\n",
    "    tgt_keypts, tgt_features, tgt_scores = read_features_file(tgt_features_file)\n",
    "\n",
    "    result_ransac = ransac_feature_matching(\n",
    "        src_keypts, tgt_keypts, src_features, tgt_features,\n",
    "        0.05, open3d.TransformationEstimationPointToPoint(False), 3,\n",
    "        [open3d.CorrespondenceCheckerBasedOnEdgeLength(0.9), open3d.CorrespondenceCheckerBasedOnDistance(0.05)],\n",
    "        open3d.RANSACConvergenceCriteria(4000000, 500)\n",
    "    )\n",
    "\n",
    "    # src_keypts.transform(result_ransac.transformation)\n",
    "\n",
    "    # open3d.draw_geometries([src_keypts, tgt_keypts])"
   ],
   "metadata": {
    "collapsed": false,
    "pycharm": {
     "name": "#%%\n"
    }
   }
  },
  {
   "cell_type": "code",
   "execution_count": null,
   "outputs": [],
   "source": [],
   "metadata": {
    "collapsed": false,
    "pycharm": {
     "name": "#%%\n"
    }
   }
  }
 ],
 "metadata": {
  "kernelspec": {
   "display_name": "Python 3",
   "language": "python",
   "name": "python3"
  },
  "language_info": {
   "codemirror_mode": {
    "name": "ipython",
    "version": 2
   },
   "file_extension": ".py",
   "mimetype": "text/x-python",
   "name": "python",
   "nbconvert_exporter": "python",
   "pygments_lexer": "ipython2",
   "version": "2.7.6"
  }
 },
 "nbformat": 4,
 "nbformat_minor": 0
}